{
 "cells": [
  {
   "cell_type": "code",
   "execution_count": 2,
   "id": "f7b1aad9-4fb1-4146-8fd3-7eb033423e78",
   "metadata": {},
   "outputs": [
    {
     "name": "stdout",
     "output_type": "stream",
     "text": [
      "pip 22.0.2 from /media/ksquarez/MLAI/Nolan/nolan/lib/python3.10/site-packages/pip (python 3.10)\n",
      "Note: you may need to restart the kernel to use updated packages.\n"
     ]
    }
   ],
   "source": [
    "pip -V"
   ]
  },
  {
   "cell_type": "code",
   "execution_count": 2,
   "id": "40dcdc76-9974-4897-bf20-0dcfaa2a0f1f",
   "metadata": {},
   "outputs": [],
   "source": [
    "#title,release_year,genre,plot_summary,cast,rating_imdb,rating_rotten_tomatoes\n",
    "import pandas as pd\n",
    "from sklearn.model_selection import train_test_split"
   ]
  },
  {
   "cell_type": "code",
   "execution_count": 3,
   "id": "1f07236f",
   "metadata": {},
   "outputs": [],
   "source": [
    "df  = pd.read_csv(\"nolan.csv\")\n",
    "                  "
   ]
  },
  {
   "cell_type": "code",
   "execution_count": 4,
   "id": "2eebcd4a",
   "metadata": {},
   "outputs": [
    {
     "data": {
      "text/html": [
       "<div>\n",
       "<style scoped>\n",
       "    .dataframe tbody tr th:only-of-type {\n",
       "        vertical-align: middle;\n",
       "    }\n",
       "\n",
       "    .dataframe tbody tr th {\n",
       "        vertical-align: top;\n",
       "    }\n",
       "\n",
       "    .dataframe thead th {\n",
       "        text-align: right;\n",
       "    }\n",
       "</style>\n",
       "<table border=\"1\" class=\"dataframe\">\n",
       "  <thead>\n",
       "    <tr style=\"text-align: right;\">\n",
       "      <th></th>\n",
       "      <th>title</th>\n",
       "      <th>length</th>\n",
       "      <th>release_year</th>\n",
       "      <th>genre</th>\n",
       "      <th>plot_summary</th>\n",
       "      <th>cast</th>\n",
       "      <th>rating_imdb</th>\n",
       "      <th>rating_rotten_tomatoes</th>\n",
       "    </tr>\n",
       "  </thead>\n",
       "  <tbody>\n",
       "    <tr>\n",
       "      <th>0</th>\n",
       "      <td>Following</td>\n",
       "      <td>Full</td>\n",
       "      <td>1998</td>\n",
       "      <td>[\"Crime\", \"Mystery\", \"Thriller\"]</td>\n",
       "      <td>Pulp fiction neo noir crime story about a writ...</td>\n",
       "      <td>[ { \"Actor\": \"Jeremy Theobald\",  \"Character\": ...</td>\n",
       "      <td>7.5</td>\n",
       "      <td>84.0</td>\n",
       "    </tr>\n",
       "    <tr>\n",
       "      <th>1</th>\n",
       "      <td>Memento</td>\n",
       "      <td>Full</td>\n",
       "      <td>2000</td>\n",
       "      <td>[\"Mystery\", \"Thriller\"]</td>\n",
       "      <td>Leonard Shelby has short term memory loss resu...</td>\n",
       "      <td>[\\n    {\\n        \"Actor\": \"Guy Pearce\", \\n   ...</td>\n",
       "      <td>8.4</td>\n",
       "      <td>94.0</td>\n",
       "    </tr>\n",
       "    <tr>\n",
       "      <th>2</th>\n",
       "      <td>Insomnia</td>\n",
       "      <td>Full</td>\n",
       "      <td>2002</td>\n",
       "      <td>[\"Drama\", \"Mystery\", \"Thriller\"]</td>\n",
       "      <td>In Nightmute, Alaska, seventeen year old resid...</td>\n",
       "      <td>[\\n    {\\n        \"Actor\": \"Al Pacino\", \\n    ...</td>\n",
       "      <td>7.2</td>\n",
       "      <td>92.0</td>\n",
       "    </tr>\n",
       "    <tr>\n",
       "      <th>3</th>\n",
       "      <td>Batman begins</td>\n",
       "      <td>Full</td>\n",
       "      <td>2005</td>\n",
       "      <td>[\"Action\", \"Crime\", \"Drama\"]</td>\n",
       "      <td>As a boy, a young Bruce Wayne watched in horro...</td>\n",
       "      <td>[\\n    {\\n        \"Actor\": \"Christian Bale\", \\...</td>\n",
       "      <td>8.2</td>\n",
       "      <td>85.0</td>\n",
       "    </tr>\n",
       "    <tr>\n",
       "      <th>4</th>\n",
       "      <td>The Prestige</td>\n",
       "      <td>Full</td>\n",
       "      <td>2006</td>\n",
       "      <td>[\"Drama\", \"Mystery\", \"Sci-fi\"]</td>\n",
       "      <td>In nineteenth century London, illusionist Alfr...</td>\n",
       "      <td>[\\n    {\\n        \"Actor\": \"Hugh Jackman\", \\n ...</td>\n",
       "      <td>8.5</td>\n",
       "      <td>77.0</td>\n",
       "    </tr>\n",
       "  </tbody>\n",
       "</table>\n",
       "</div>"
      ],
      "text/plain": [
       "           title length  release_year                             genre  \\\n",
       "0      Following   Full          1998  [\"Crime\", \"Mystery\", \"Thriller\"]   \n",
       "1        Memento   Full          2000           [\"Mystery\", \"Thriller\"]   \n",
       "2       Insomnia   Full          2002  [\"Drama\", \"Mystery\", \"Thriller\"]   \n",
       "3  Batman begins   Full          2005      [\"Action\", \"Crime\", \"Drama\"]   \n",
       "4   The Prestige   Full          2006    [\"Drama\", \"Mystery\", \"Sci-fi\"]   \n",
       "\n",
       "                                        plot_summary  \\\n",
       "0  Pulp fiction neo noir crime story about a writ...   \n",
       "1  Leonard Shelby has short term memory loss resu...   \n",
       "2  In Nightmute, Alaska, seventeen year old resid...   \n",
       "3  As a boy, a young Bruce Wayne watched in horro...   \n",
       "4  In nineteenth century London, illusionist Alfr...   \n",
       "\n",
       "                                                cast  rating_imdb  \\\n",
       "0  [ { \"Actor\": \"Jeremy Theobald\",  \"Character\": ...          7.5   \n",
       "1  [\\n    {\\n        \"Actor\": \"Guy Pearce\", \\n   ...          8.4   \n",
       "2  [\\n    {\\n        \"Actor\": \"Al Pacino\", \\n    ...          7.2   \n",
       "3  [\\n    {\\n        \"Actor\": \"Christian Bale\", \\...          8.2   \n",
       "4  [\\n    {\\n        \"Actor\": \"Hugh Jackman\", \\n ...          8.5   \n",
       "\n",
       "   rating_rotten_tomatoes  \n",
       "0                    84.0  \n",
       "1                    94.0  \n",
       "2                    92.0  \n",
       "3                    85.0  \n",
       "4                    77.0  "
      ]
     },
     "execution_count": 4,
     "metadata": {},
     "output_type": "execute_result"
    }
   ],
   "source": [
    "df.head()"
   ]
  },
  {
   "cell_type": "code",
   "execution_count": 8,
   "id": "662b5dd9",
   "metadata": {},
   "outputs": [
    {
     "name": "stdout",
     "output_type": "stream",
     "text": [
      "[\n",
      "    {\n",
      "        \"Actor\": \"Guy Pearce\", \n",
      "        \"Character\": \"Leonard\"\n",
      "    },\n",
      "        \n",
      "    {\n",
      "        \"Actor\": \"Carrie-Anne Moss\", \n",
      "        \"Character\": \"Natalie\"\n",
      "    },\n",
      "\n",
      "    {\n",
      "        \"Actor\": \"Joe Pantoliano\", \n",
      "        \"Character\": \"Teddy\"\n",
      "    },\n",
      "    \n",
      "    {\n",
      "        \"Actor\": \"Mark Boone Junior\", \n",
      "        \"Character\": \"Burt\"\n",
      "    },\n",
      "    \n",
      "    {\n",
      "        \"Actor\": \"Russ Fega\", \n",
      "        \"Character\": \"Waiter\"\n",
      "    },\n",
      "\n",
      "    {\n",
      "        \"Actor\": \"Jorja Fox\", \n",
      "        \"Character\": \"Leonard's Wife\"\n",
      "    },\n",
      "    \n",
      "    {\n",
      "        \"Actor\": \"Stephen Tobolowsky\", \n",
      "        \"Character\": \"Sammy Jankins\"\n",
      "    },\n",
      "\n",
      "    {\n",
      "        \"Actor\": \"Harriet Sansom Harris\", \n",
      "        \"Character\": \"Mrs. Jankins\"\n",
      "    },\n",
      "\n",
      "    {\n",
      "        \"Actor\": \"Thomas Lenon\", \n",
      "        \"Character\": \"Doctor\"\n",
      "    },\n",
      "\n",
      "    {\n",
      "        \"Actor\": \"Callum Keith Rennie\", \n",
      "        \"Character\": \"Dodd\"\n",
      "    },\n",
      "\n",
      "    {\n",
      "        \"Actor\": \"Kimberly Campbell\", \n",
      "        \"Character\": \"Blonde\"\n",
      "    },\n",
      "\n",
      "    {\n",
      "        \"Actor\": \"Marianne Muellerleile\", \n",
      "        \"Character\": \"Tattoist\"\n",
      "    },\n",
      "\n",
      "    {\n",
      "        \"Actor\": \"Larry Holden\", \n",
      "        \"Character\": \"JImmy\"\n",
      "    }\n",
      "    \n",
      "]\n"
     ]
    }
   ],
   "source": [
    "print(df['cast'][1])"
   ]
  },
  {
   "cell_type": "code",
   "execution_count": 9,
   "id": "76797581",
   "metadata": {},
   "outputs": [
    {
     "data": {
      "text/html": [
       "<div>\n",
       "<style scoped>\n",
       "    .dataframe tbody tr th:only-of-type {\n",
       "        vertical-align: middle;\n",
       "    }\n",
       "\n",
       "    .dataframe tbody tr th {\n",
       "        vertical-align: top;\n",
       "    }\n",
       "\n",
       "    .dataframe thead th {\n",
       "        text-align: right;\n",
       "    }\n",
       "</style>\n",
       "<table border=\"1\" class=\"dataframe\">\n",
       "  <thead>\n",
       "    <tr style=\"text-align: right;\">\n",
       "      <th></th>\n",
       "      <th>title</th>\n",
       "      <th>length</th>\n",
       "      <th>release_year</th>\n",
       "      <th>genre</th>\n",
       "      <th>plot_summary</th>\n",
       "      <th>cast</th>\n",
       "      <th>rating_imdb</th>\n",
       "      <th>rating_rotten_tomatoes</th>\n",
       "    </tr>\n",
       "  </thead>\n",
       "  <tbody>\n",
       "    <tr>\n",
       "      <th>0</th>\n",
       "      <td>Following</td>\n",
       "      <td>Full</td>\n",
       "      <td>1998</td>\n",
       "      <td>[\"Crime\", \"Mystery\", \"Thriller\"]</td>\n",
       "      <td>Pulp fiction neo noir crime story about a writ...</td>\n",
       "      <td>[ { \"Actor\": \"Jeremy Theobald\",  \"Character\": ...</td>\n",
       "      <td>7.5</td>\n",
       "      <td>84.0</td>\n",
       "    </tr>\n",
       "    <tr>\n",
       "      <th>1</th>\n",
       "      <td>Memento</td>\n",
       "      <td>Full</td>\n",
       "      <td>2000</td>\n",
       "      <td>[\"Mystery\", \"Thriller\"]</td>\n",
       "      <td>Leonard Shelby has short term memory loss resu...</td>\n",
       "      <td>[    {        \"Actor\": \"Guy Pearce\",         \"...</td>\n",
       "      <td>8.4</td>\n",
       "      <td>94.0</td>\n",
       "    </tr>\n",
       "    <tr>\n",
       "      <th>2</th>\n",
       "      <td>Insomnia</td>\n",
       "      <td>Full</td>\n",
       "      <td>2002</td>\n",
       "      <td>[\"Drama\", \"Mystery\", \"Thriller\"]</td>\n",
       "      <td>In Nightmute, Alaska, seventeen year old resid...</td>\n",
       "      <td>[    {        \"Actor\": \"Al Pacino\",         \"C...</td>\n",
       "      <td>7.2</td>\n",
       "      <td>92.0</td>\n",
       "    </tr>\n",
       "    <tr>\n",
       "      <th>3</th>\n",
       "      <td>Batman begins</td>\n",
       "      <td>Full</td>\n",
       "      <td>2005</td>\n",
       "      <td>[\"Action\", \"Crime\", \"Drama\"]</td>\n",
       "      <td>As a boy, a young Bruce Wayne watched in horro...</td>\n",
       "      <td>[    {        \"Actor\": \"Christian Bale\",      ...</td>\n",
       "      <td>8.2</td>\n",
       "      <td>85.0</td>\n",
       "    </tr>\n",
       "    <tr>\n",
       "      <th>4</th>\n",
       "      <td>The Prestige</td>\n",
       "      <td>Full</td>\n",
       "      <td>2006</td>\n",
       "      <td>[\"Drama\", \"Mystery\", \"Sci-fi\"]</td>\n",
       "      <td>In nineteenth century London, illusionist Alfr...</td>\n",
       "      <td>[    {        \"Actor\": \"Hugh Jackman\",        ...</td>\n",
       "      <td>8.5</td>\n",
       "      <td>77.0</td>\n",
       "    </tr>\n",
       "  </tbody>\n",
       "</table>\n",
       "</div>"
      ],
      "text/plain": [
       "           title length  release_year                             genre  \\\n",
       "0      Following   Full          1998  [\"Crime\", \"Mystery\", \"Thriller\"]   \n",
       "1        Memento   Full          2000           [\"Mystery\", \"Thriller\"]   \n",
       "2       Insomnia   Full          2002  [\"Drama\", \"Mystery\", \"Thriller\"]   \n",
       "3  Batman begins   Full          2005      [\"Action\", \"Crime\", \"Drama\"]   \n",
       "4   The Prestige   Full          2006    [\"Drama\", \"Mystery\", \"Sci-fi\"]   \n",
       "\n",
       "                                        plot_summary  \\\n",
       "0  Pulp fiction neo noir crime story about a writ...   \n",
       "1  Leonard Shelby has short term memory loss resu...   \n",
       "2  In Nightmute, Alaska, seventeen year old resid...   \n",
       "3  As a boy, a young Bruce Wayne watched in horro...   \n",
       "4  In nineteenth century London, illusionist Alfr...   \n",
       "\n",
       "                                                cast  rating_imdb  \\\n",
       "0  [ { \"Actor\": \"Jeremy Theobald\",  \"Character\": ...          7.5   \n",
       "1  [    {        \"Actor\": \"Guy Pearce\",         \"...          8.4   \n",
       "2  [    {        \"Actor\": \"Al Pacino\",         \"C...          7.2   \n",
       "3  [    {        \"Actor\": \"Christian Bale\",      ...          8.2   \n",
       "4  [    {        \"Actor\": \"Hugh Jackman\",        ...          8.5   \n",
       "\n",
       "   rating_rotten_tomatoes  \n",
       "0                    84.0  \n",
       "1                    94.0  \n",
       "2                    92.0  \n",
       "3                    85.0  \n",
       "4                    77.0  "
      ]
     },
     "execution_count": 9,
     "metadata": {},
     "output_type": "execute_result"
    }
   ],
   "source": [
    "df = df.replace(to_replace= r'\\n', value= '', regex=True)\n",
    "df.head()"
   ]
  },
  {
   "cell_type": "code",
   "execution_count": 10,
   "id": "7be8dfc8",
   "metadata": {},
   "outputs": [
    {
     "name": "stdout",
     "output_type": "stream",
     "text": [
      "[    {        \"Actor\": \"Guy Pearce\",         \"Character\": \"Leonard\"    },            {        \"Actor\": \"Carrie-Anne Moss\",         \"Character\": \"Natalie\"    },    {        \"Actor\": \"Joe Pantoliano\",         \"Character\": \"Teddy\"    },        {        \"Actor\": \"Mark Boone Junior\",         \"Character\": \"Burt\"    },        {        \"Actor\": \"Russ Fega\",         \"Character\": \"Waiter\"    },    {        \"Actor\": \"Jorja Fox\",         \"Character\": \"Leonard's Wife\"    },        {        \"Actor\": \"Stephen Tobolowsky\",         \"Character\": \"Sammy Jankins\"    },    {        \"Actor\": \"Harriet Sansom Harris\",         \"Character\": \"Mrs. Jankins\"    },    {        \"Actor\": \"Thomas Lenon\",         \"Character\": \"Doctor\"    },    {        \"Actor\": \"Callum Keith Rennie\",         \"Character\": \"Dodd\"    },    {        \"Actor\": \"Kimberly Campbell\",         \"Character\": \"Blonde\"    },    {        \"Actor\": \"Marianne Muellerleile\",         \"Character\": \"Tattoist\"    },    {        \"Actor\": \"Larry Holden\",         \"Character\": \"JImmy\"    }    ]\n"
     ]
    }
   ],
   "source": [
    "print(df['cast'][1])"
   ]
  },
  {
   "cell_type": "code",
   "execution_count": 11,
   "id": "74e131e0",
   "metadata": {},
   "outputs": [],
   "source": [
    "df = df.replace(to_replace= r'  ', value= '', regex=True)\n"
   ]
  },
  {
   "cell_type": "code",
   "execution_count": 12,
   "id": "87822df0",
   "metadata": {},
   "outputs": [
    {
     "data": {
      "text/plain": [
       "'[{\"Actor\": \"Guy Pearce\", \"Character\": \"Leonard\"},{\"Actor\": \"Carrie-Anne Moss\", \"Character\": \"Natalie\"},{\"Actor\": \"Joe Pantoliano\", \"Character\": \"Teddy\"},{\"Actor\": \"Mark Boone Junior\", \"Character\": \"Burt\"},{\"Actor\": \"Russ Fega\", \"Character\": \"Waiter\"},{\"Actor\": \"Jorja Fox\", \"Character\": \"Leonard\\'s Wife\"},{\"Actor\": \"Stephen Tobolowsky\", \"Character\": \"Sammy Jankins\"},{\"Actor\": \"Harriet Sansom Harris\", \"Character\": \"Mrs. Jankins\"},{\"Actor\": \"Thomas Lenon\", \"Character\": \"Doctor\"},{\"Actor\": \"Callum Keith Rennie\", \"Character\": \"Dodd\"},{\"Actor\": \"Kimberly Campbell\", \"Character\": \"Blonde\"},{\"Actor\": \"Marianne Muellerleile\", \"Character\": \"Tattoist\"},{\"Actor\": \"Larry Holden\", \"Character\": \"JImmy\"}]'"
      ]
     },
     "execution_count": 12,
     "metadata": {},
     "output_type": "execute_result"
    }
   ],
   "source": [
    "df['cast'][1]"
   ]
  },
  {
   "cell_type": "code",
   "execution_count": 13,
   "id": "fa9a99dc",
   "metadata": {},
   "outputs": [
    {
     "data": {
      "text/html": [
       "<div>\n",
       "<style scoped>\n",
       "    .dataframe tbody tr th:only-of-type {\n",
       "        vertical-align: middle;\n",
       "    }\n",
       "\n",
       "    .dataframe tbody tr th {\n",
       "        vertical-align: top;\n",
       "    }\n",
       "\n",
       "    .dataframe thead th {\n",
       "        text-align: right;\n",
       "    }\n",
       "</style>\n",
       "<table border=\"1\" class=\"dataframe\">\n",
       "  <thead>\n",
       "    <tr style=\"text-align: right;\">\n",
       "      <th></th>\n",
       "      <th>title</th>\n",
       "      <th>length</th>\n",
       "      <th>release_year</th>\n",
       "      <th>genre</th>\n",
       "      <th>plot_summary</th>\n",
       "      <th>cast</th>\n",
       "      <th>rating_imdb</th>\n",
       "      <th>rating_rotten_tomatoes</th>\n",
       "    </tr>\n",
       "  </thead>\n",
       "  <tbody>\n",
       "    <tr>\n",
       "      <th>0</th>\n",
       "      <td>Following</td>\n",
       "      <td>Full</td>\n",
       "      <td>1998</td>\n",
       "      <td>[\"Crime\", \"Mystery\", \"Thriller\"]</td>\n",
       "      <td>Pulp fiction neo noir crime story about a writ...</td>\n",
       "      <td>[ { \"Actor\": \"Jeremy Theobald\",\"Character\": \"T...</td>\n",
       "      <td>7.5</td>\n",
       "      <td>84.0</td>\n",
       "    </tr>\n",
       "    <tr>\n",
       "      <th>1</th>\n",
       "      <td>Memento</td>\n",
       "      <td>Full</td>\n",
       "      <td>2000</td>\n",
       "      <td>[\"Mystery\", \"Thriller\"]</td>\n",
       "      <td>Leonard Shelby has short term memory loss resu...</td>\n",
       "      <td>[{\"Actor\": \"Guy Pearce\", \"Character\": \"Leonard...</td>\n",
       "      <td>8.4</td>\n",
       "      <td>94.0</td>\n",
       "    </tr>\n",
       "    <tr>\n",
       "      <th>2</th>\n",
       "      <td>Insomnia</td>\n",
       "      <td>Full</td>\n",
       "      <td>2002</td>\n",
       "      <td>[\"Drama\", \"Mystery\", \"Thriller\"]</td>\n",
       "      <td>In Nightmute, Alaska, seventeen year old resid...</td>\n",
       "      <td>[{\"Actor\": \"Al Pacino\", \"Character\": \"Will Dor...</td>\n",
       "      <td>7.2</td>\n",
       "      <td>92.0</td>\n",
       "    </tr>\n",
       "    <tr>\n",
       "      <th>3</th>\n",
       "      <td>Batman begins</td>\n",
       "      <td>Full</td>\n",
       "      <td>2005</td>\n",
       "      <td>[\"Action\", \"Crime\", \"Drama\"]</td>\n",
       "      <td>As a boy, a young Bruce Wayne watched in horro...</td>\n",
       "      <td>[{\"Actor\": \"Christian Bale\", \"Character\": \"Bru...</td>\n",
       "      <td>8.2</td>\n",
       "      <td>85.0</td>\n",
       "    </tr>\n",
       "    <tr>\n",
       "      <th>4</th>\n",
       "      <td>The Prestige</td>\n",
       "      <td>Full</td>\n",
       "      <td>2006</td>\n",
       "      <td>[\"Drama\", \"Mystery\", \"Sci-fi\"]</td>\n",
       "      <td>In nineteenth century London, illusionist Alfr...</td>\n",
       "      <td>[{\"Actor\": \"Hugh Jackman\", \"Character\": \"Rober...</td>\n",
       "      <td>8.5</td>\n",
       "      <td>77.0</td>\n",
       "    </tr>\n",
       "  </tbody>\n",
       "</table>\n",
       "</div>"
      ],
      "text/plain": [
       "           title length  release_year                             genre  \\\n",
       "0      Following   Full          1998  [\"Crime\", \"Mystery\", \"Thriller\"]   \n",
       "1        Memento   Full          2000           [\"Mystery\", \"Thriller\"]   \n",
       "2       Insomnia   Full          2002  [\"Drama\", \"Mystery\", \"Thriller\"]   \n",
       "3  Batman begins   Full          2005      [\"Action\", \"Crime\", \"Drama\"]   \n",
       "4   The Prestige   Full          2006    [\"Drama\", \"Mystery\", \"Sci-fi\"]   \n",
       "\n",
       "                                        plot_summary  \\\n",
       "0  Pulp fiction neo noir crime story about a writ...   \n",
       "1  Leonard Shelby has short term memory loss resu...   \n",
       "2  In Nightmute, Alaska, seventeen year old resid...   \n",
       "3  As a boy, a young Bruce Wayne watched in horro...   \n",
       "4  In nineteenth century London, illusionist Alfr...   \n",
       "\n",
       "                                                cast  rating_imdb  \\\n",
       "0  [ { \"Actor\": \"Jeremy Theobald\",\"Character\": \"T...          7.5   \n",
       "1  [{\"Actor\": \"Guy Pearce\", \"Character\": \"Leonard...          8.4   \n",
       "2  [{\"Actor\": \"Al Pacino\", \"Character\": \"Will Dor...          7.2   \n",
       "3  [{\"Actor\": \"Christian Bale\", \"Character\": \"Bru...          8.2   \n",
       "4  [{\"Actor\": \"Hugh Jackman\", \"Character\": \"Rober...          8.5   \n",
       "\n",
       "   rating_rotten_tomatoes  \n",
       "0                    84.0  \n",
       "1                    94.0  \n",
       "2                    92.0  \n",
       "3                    85.0  \n",
       "4                    77.0  "
      ]
     },
     "execution_count": 13,
     "metadata": {},
     "output_type": "execute_result"
    }
   ],
   "source": [
    "df.head()"
   ]
  },
  {
   "cell_type": "code",
   "execution_count": 14,
   "id": "f793a12f",
   "metadata": {},
   "outputs": [
    {
     "data": {
      "text/plain": [
       "'[\"Mystery\", \"Thriller\"]'"
      ]
     },
     "execution_count": 14,
     "metadata": {},
     "output_type": "execute_result"
    }
   ],
   "source": [
    "df['genre'][1]"
   ]
  },
  {
   "cell_type": "code",
   "execution_count": 1,
   "id": "ebdeb26a",
   "metadata": {},
   "outputs": [
    {
     "name": "stderr",
     "output_type": "stream",
     "text": [
      "2024-04-02 18:38:16.552516: I tensorflow/core/platform/cpu_feature_guard.cc:210] This TensorFlow binary is optimized to use available CPU instructions in performance-critical operations.\n",
      "To enable the following instructions: AVX2 FMA, in other operations, rebuild TensorFlow with the appropriate compiler flags.\n",
      "2024-04-02 18:38:18.060687: W tensorflow/compiler/tf2tensorrt/utils/py_utils.cc:38] TF-TRT Warning: Could not find TensorRT\n"
     ]
    }
   ],
   "source": [
    "from numpy import random\n",
    "from multihead_attention import MultiHeadAttention\n",
    "from positional_encoding import PositionEmbeddingFixedWeights"
   ]
  },
  {
   "cell_type": "code",
   "execution_count": 9,
   "id": "1d11548e",
   "metadata": {},
   "outputs": [],
   "source": [
    "import tensorflow as tf\n",
    "from tensorflow.keras.layers import MultiHeadAttention, LayerNormalization, Dense, Dropout, ReLU\n"
   ]
  },
  {
   "cell_type": "code",
   "execution_count": 10,
   "id": "b780de01",
   "metadata": {},
   "outputs": [],
   "source": [
    "class FeedForward(tf.keras.layers.Layer):\n",
    "    def __init__(self, d_ff, d_model, **kwargs):\n",
    "        super(FeedForward, self).__init__(**kwargs)\n",
    "        self.fully_connected1 = Dense(d_ff)  # First fully connected layer\n",
    "        self.fully_connected2 = Dense(d_model)  # Second fully connected layer\n",
    "        self.activation = ReLU()  # ReLU activation layer\n",
    "    \n",
    "    def call(self, x):\n",
    "        # The input is passed into the two fully-connected layers, with a ReLU in between\n",
    "        x_fc1 = self.fully_connected1(x)\n",
    "    \n",
    "        return self.fully_connected2(self.activation(x_fc1))"
   ]
  },
  {
   "cell_type": "code",
   "execution_count": 11,
   "id": "07226994",
   "metadata": {},
   "outputs": [],
   "source": [
    "class AddNormalization(tf.keras.layers.Layer):\n",
    "    def __init__(self, **kwargs):\n",
    "        super(AddNormalization, self).__init__(**kwargs)\n",
    "        self.layer_norm = LayerNormalization()  # Layer normalization layer\n",
    "    \n",
    "    def call(self, x, sublayer_x):\n",
    "        # The sublayer input and output need to be of the same shape to be summed\n",
    "        add = x + sublayer_x\n",
    "    \n",
    "        # Apply layer normalization to the sum\n",
    "        return self.layer_norm(add)"
   ]
  },
  {
   "cell_type": "code",
   "execution_count": 12,
   "id": "b05e85c0",
   "metadata": {},
   "outputs": [],
   "source": [
    "class EncoderLayer(tf.keras.layers.Layer):\n",
    "    def __init__(self, h, d_k, d_v, d_model, d_ff, rate, **kwargs):\n",
    "        super(EncoderLayer, self).__init__(**kwargs)\n",
    "        self.multihead_attention = MultiHeadAttention(h, d_k, d_v, d_model)\n",
    "        self.dropout1 = Dropout(rate)\n",
    "        self.add_norm1 = AddNormalization()\n",
    "        self.feed_forward = FeedForward(d_ff, d_model)\n",
    "        self.dropout2 = Dropout(rate)\n",
    "        self.add_norm2 = AddNormalization()\n",
    "\n",
    "    def call(self, x, padding_mask, training):\n",
    "        # Multi-head attention layer\n",
    "        multihead_output = self.multihead_attention(x, x, x, padding_mask)\n",
    "        # Expected output shape = (batch_size, sequence_length, d_model)\n",
    "\n",
    "        # Add in a dropout layer\n",
    "        multihead_output = self.dropout1(multihead_output, training=training)\n",
    "\n",
    "        # Followed by an Add & Norm layer\n",
    "        addnorm_output = self.add_norm1(x, multihead_output)\n",
    "        # Expected output shape = (batch_size, sequence_length, d_model)\n",
    "\n",
    "        # Followed by a fully connected layer\n",
    "        feedforward_output = self.feed_forward(addnorm_output)\n",
    "        # Expected output shape = (batch_size, sequence_length, d_model)\n",
    "\n",
    "        # Add in another dropout layer\n",
    "        feedforward_output = self.dropout2(feedforward_output, training=training)\n",
    "\n",
    "        # Followed by another Add & Norm layer\n",
    "        return self.add_norm2(addnorm_output, feedforward_output)"
   ]
  },
  {
   "cell_type": "code",
   "execution_count": 13,
   "id": "523bf02f",
   "metadata": {},
   "outputs": [],
   "source": [
    "class Encoder(tf.keras.layers.Layer):\n",
    "    def __init__(self, vocab_size, sequence_length, h, d_k, d_v, d_model, d_ff, n, rate, **kwargs):\n",
    "        super(Encoder, self).__init__(**kwargs)\n",
    "        self.pos_encoding = PositionEmbeddingFixedWeights(sequence_length, vocab_size, d_model)\n",
    "        self.dropout = Dropout(rate)\n",
    "        self.encoder_layer = [EncoderLayer(h, d_k, d_v, d_model, d_ff, rate) for _ in range(n)]\n",
    "\n",
    "    def call(self, input_sentence, padding_mask, training):\n",
    "        # Generate the positional encoding\n",
    "        pos_encoding_output = self.pos_encoding(input_sentence)\n",
    "        # Expected output shape = (batch_size, sequence_length, d_model)\n",
    "\n",
    "        # Add in a dropout layer\n",
    "        x = self.dropout(pos_encoding_output, training=training)\n",
    "\n",
    "        # Pass on the positional encoded values to each encoder layer\n",
    "        for i, layer in enumerate(self.encoder_layer):\n",
    "            x = layer(x, padding_mask, training)\n",
    "\n",
    "        return x        "
   ]
  },
  {
   "cell_type": "code",
   "execution_count": 14,
   "id": "89c53050",
   "metadata": {},
   "outputs": [
    {
     "ename": "ValueError",
     "evalue": "Only input tensors may be passed as positional arguments. The following argument value should be passed as a keyword argument: None (of type <class 'NoneType'>)",
     "output_type": "error",
     "traceback": [
      "\u001b[0;31m---------------------------------------------------------------------------\u001b[0m",
      "\u001b[0;31mValueError\u001b[0m                                Traceback (most recent call last)",
      "Cell \u001b[0;32mIn[14], line 18\u001b[0m\n\u001b[1;32m     15\u001b[0m input_seq \u001b[38;5;241m=\u001b[39m random\u001b[38;5;241m.\u001b[39mrandom((batch_size, input_seq_length))\n\u001b[1;32m     17\u001b[0m encoder \u001b[38;5;241m=\u001b[39m Encoder(enc_vocab_size, input_seq_length, h, d_k, d_v, d_model, d_ff, n, dropout_rate)\n\u001b[0;32m---> 18\u001b[0m \u001b[38;5;28mprint\u001b[39m(\u001b[43mencoder\u001b[49m\u001b[43m(\u001b[49m\u001b[43minput_seq\u001b[49m\u001b[43m,\u001b[49m\u001b[43m \u001b[49m\u001b[38;5;28;43;01mNone\u001b[39;49;00m\u001b[43m,\u001b[49m\u001b[43m \u001b[49m\u001b[38;5;28;43;01mTrue\u001b[39;49;00m\u001b[43m)\u001b[49m)\n",
      "File \u001b[0;32m/media/ksquarez/MLAI/Nolan/nolan/lib/python3.10/site-packages/keras/src/utils/traceback_utils.py:122\u001b[0m, in \u001b[0;36mfilter_traceback.<locals>.error_handler\u001b[0;34m(*args, **kwargs)\u001b[0m\n\u001b[1;32m    119\u001b[0m     filtered_tb \u001b[38;5;241m=\u001b[39m _process_traceback_frames(e\u001b[38;5;241m.\u001b[39m__traceback__)\n\u001b[1;32m    120\u001b[0m     \u001b[38;5;66;03m# To get the full stack trace, call:\u001b[39;00m\n\u001b[1;32m    121\u001b[0m     \u001b[38;5;66;03m# `keras.config.disable_traceback_filtering()`\u001b[39;00m\n\u001b[0;32m--> 122\u001b[0m     \u001b[38;5;28;01mraise\u001b[39;00m e\u001b[38;5;241m.\u001b[39mwith_traceback(filtered_tb) \u001b[38;5;28;01mfrom\u001b[39;00m \u001b[38;5;28;01mNone\u001b[39;00m\n\u001b[1;32m    123\u001b[0m \u001b[38;5;28;01mfinally\u001b[39;00m:\n\u001b[1;32m    124\u001b[0m     \u001b[38;5;28;01mdel\u001b[39;00m filtered_tb\n",
      "File \u001b[0;32m/media/ksquarez/MLAI/Nolan/nolan/lib/python3.10/site-packages/keras/src/layers/layer.py:721\u001b[0m, in \u001b[0;36mLayer.__call__\u001b[0;34m(self, *args, **kwargs)\u001b[0m\n\u001b[1;32m    717\u001b[0m     \u001b[38;5;28;01mfor\u001b[39;00m arg \u001b[38;5;129;01min\u001b[39;00m tree\u001b[38;5;241m.\u001b[39mflatten(args):\n\u001b[1;32m    718\u001b[0m         \u001b[38;5;28;01mif\u001b[39;00m \u001b[38;5;129;01mnot\u001b[39;00m \u001b[38;5;28misinstance\u001b[39m(arg, KerasTensor) \u001b[38;5;129;01mand\u001b[39;00m \u001b[38;5;129;01mnot\u001b[39;00m backend\u001b[38;5;241m.\u001b[39mis_tensor(\n\u001b[1;32m    719\u001b[0m             arg\n\u001b[1;32m    720\u001b[0m         ):\n\u001b[0;32m--> 721\u001b[0m             \u001b[38;5;28;01mraise\u001b[39;00m \u001b[38;5;167;01mValueError\u001b[39;00m(\n\u001b[1;32m    722\u001b[0m                 \u001b[38;5;124m\"\u001b[39m\u001b[38;5;124mOnly input tensors may be passed as \u001b[39m\u001b[38;5;124m\"\u001b[39m\n\u001b[1;32m    723\u001b[0m                 \u001b[38;5;124m\"\u001b[39m\u001b[38;5;124mpositional arguments. The following argument value \u001b[39m\u001b[38;5;124m\"\u001b[39m\n\u001b[1;32m    724\u001b[0m                 \u001b[38;5;124mf\u001b[39m\u001b[38;5;124m\"\u001b[39m\u001b[38;5;124mshould be passed as a keyword argument: \u001b[39m\u001b[38;5;132;01m{\u001b[39;00marg\u001b[38;5;132;01m}\u001b[39;00m\u001b[38;5;124m \u001b[39m\u001b[38;5;124m\"\u001b[39m\n\u001b[1;32m    725\u001b[0m                 \u001b[38;5;124mf\u001b[39m\u001b[38;5;124m\"\u001b[39m\u001b[38;5;124m(of type \u001b[39m\u001b[38;5;132;01m{\u001b[39;00m\u001b[38;5;28mtype\u001b[39m(arg)\u001b[38;5;132;01m}\u001b[39;00m\u001b[38;5;124m)\u001b[39m\u001b[38;5;124m\"\u001b[39m\n\u001b[1;32m    726\u001b[0m             )\n\u001b[1;32m    728\u001b[0m \u001b[38;5;66;03m# Caches info about `call()` signature, args, kwargs.\u001b[39;00m\n\u001b[1;32m    729\u001b[0m call_spec \u001b[38;5;241m=\u001b[39m CallSpec(\u001b[38;5;28mself\u001b[39m\u001b[38;5;241m.\u001b[39m_call_signature, args, kwargs)\n",
      "\u001b[0;31mValueError\u001b[0m: Only input tensors may be passed as positional arguments. The following argument value should be passed as a keyword argument: None (of type <class 'NoneType'>)"
     ]
    }
   ],
   "source": [
    "from numpy import random\n",
    "\n",
    "enc_vocab_size = 20 # Vocabulary size for the encoder\n",
    "input_seq_length = 5  # Maximum length of the input sequence\n",
    "h = 8  # Number of self-attention heads\n",
    "d_k = 64  # Dimensionality of the linearly projected queries and keys\n",
    "d_v = 64  # Dimensionality of the linearly projected values\n",
    "d_ff = 2048  # Dimensionality of the inner fully connected layer\n",
    "d_model = 512  # Dimensionality of the model sub-layers' outputs\n",
    "n = 6  # Number of layers in the encoder stack\n",
    "\n",
    "batch_size = 64  # Batch size from the training process\n",
    "dropout_rate = 0.1  # Frequency of dropping the input units in the dropout layers\n",
    "\n",
    "input_seq = random.random((batch_size, input_seq_length))\n",
    "\n",
    "encoder = Encoder(enc_vocab_size, input_seq_length, h, d_k, d_v, d_model, d_ff, n, dropout_rate)\n",
    "print(encoder(input_seq, None, True))"
   ]
  },
  {
   "cell_type": "code",
   "execution_count": null,
   "id": "b5b200d1",
   "metadata": {},
   "outputs": [],
   "source": []
  },
  {
   "cell_type": "code",
   "execution_count": 12,
   "id": "9aeb7929",
   "metadata": {},
   "outputs": [],
   "source": [
    "\n",
    "class TransformerEncoderLayer(tf.keras.layers.Layer):\n",
    "    def __init__(self, d_model, num_heads, dff, rate=0.1):\n",
    "        super(TransformerEncoderLayer, self).__init__()\n",
    "        self.mha = MultiHeadAttention(num_heads, d_model)\n",
    "        self.ffn = tf.keras.Sequential([\n",
    "            Dense(dff, activation='relu'), \n",
    "            Dense(d_model)\n",
    "        ])\n",
    "\n",
    "        self.layernorm1 = LayerNormalization(epsilon=1e-6)\n",
    "        self.layernorm2 = LayerNormalization(epsilon=1e-6)\n",
    "        self.dropout1 = tf.keras.layers.Dropout(rate)\n",
    "        self.dropout2 = tf.keras.layers.Dropout(rate)\n",
    "    \n",
    "    def call(self, x, training):\n",
    "        attn_output = self.mha(x, x, x)\n",
    "        attn_output = self.dropout1(attn_output, training=training)\n",
    "        out1 = self.layernorm1(x + attn_output)\n",
    "\n",
    "        ffn_output = self.ffn(out1)\n",
    "        ffn_output = self.dropout2(ffn_output, training=training)\n",
    "        out2 = self.layernorm2(out1 + ffn_output)\n",
    "\n",
    "        return out2"
   ]
  },
  {
   "cell_type": "code",
   "execution_count": 13,
   "id": "f3706d66",
   "metadata": {},
   "outputs": [],
   "source": [
    "class TransformerDecoderLayer(tf.keras.layers.Layer):\n",
    "    def __init__(self, d_model, num_heads, dff, rate=0.1):\n",
    "        super(TransformerDecoderLayer, self).__init__()\n",
    "        self.mha1 = MultiHeadAttention(num_heads, d_model)\n",
    "        self.mha2 = MultiHeadAttention(num_heads, d_model)\n",
    "\n",
    "        self.ffn = tf.keras.Sequential([\n",
    "            Dense(dff, activation='relu'), \n",
    "            Dense(d_model)\n",
    "        ])\n",
    "\n",
    "        self.layernorm1 = LayerNormalization(epsilon=1e-6)\n",
    "        self.layernorm2 = LayerNormalization(epsilon=1e-6)\n",
    "        self.layernorm3 = LayerNormalization(epsilon=1e-6)\n",
    "        \n",
    "        self.dropout1 = tf.keras.layers.Dropout(rate)\n",
    "        self.dropout2 = tf.keras.layers.Dropout(rate)\n",
    "        self.dropout3 = tf.keras.layers.Dropout(rate)\n",
    "\n",
    "    def call(self, x, enc_output, training, look_ahead_mask, padding_mask):\n",
    "        attn1, attn_weights_block1 = self.mha1(x, x, x, look_ahead_mask)\n",
    "        attn1 = self.dropout1(attn1, training=training)\n",
    "        out1 = self.layernorm1(attn1 + x)\n",
    "\n",
    "        attn2, attn_weights_block2 = self.mha2(enc_output, enc_output, out1, padding_mask)\n",
    "        attn2 = self.dropout2(attn2, training=training)\n",
    "        out2 = self.layernorm2(attn2 + out1)\n",
    "\n",
    "        ffn_output = self.ffn(out2)\n",
    "        ffn_output = self.dropout3(ffn_output, training=training)\n",
    "        out3 = self.layernorm3(ffn_output + out2)\n",
    "\n",
    "        return out3, attn_weights_block1, attn_weights_block2"
   ]
  },
  {
   "cell_type": "code",
   "execution_count": 14,
   "id": "ad978c45",
   "metadata": {},
   "outputs": [],
   "source": [
    "class Transformer(tf.keras.Model):\n",
    "    def __init__(self, num_layers, d_model, num_heads, dff, input_vocab_size, \n",
    "                 target_vocab_size, pe_input, pe_target, rate=0.1):\n",
    "        super(Transformer, self).__init__()\n",
    "        self.encoder = Encoder(num_layers, d_model, num_heads, dff, \n",
    "                               input_vocab_size, pe_input, rate)\n",
    "        self.decoder = Decoder(num_layers, d_model, num_heads, dff, \n",
    "                               target_vocab_size, pe_target, rate)\n",
    "\n",
    "        self.final_layer = tf.keras.layers.Dense(target_vocab_size)\n",
    "\n",
    "    def call(self, inp, tar, training, enc_padding_mask, \n",
    "             look_ahead_mask, dec_padding_mask):\n",
    "        enc_output = self.encoder(inp, training, enc_padding_mask)\n",
    "        dec_output, attention_weights = self.decoder(\n",
    "            tar, enc_output, training, look_ahead_mask, dec_padding_mask)\n",
    "\n",
    "        final_output = self.final_layer(dec_output)\n"
   ]
  },
  {
   "cell_type": "code",
   "execution_count": 15,
   "id": "bccaac27",
   "metadata": {},
   "outputs": [
    {
     "data": {
      "application/vnd.jupyter.widget-view+json": {
       "model_id": "5e658ba3bf8e447d8ed8f00ee8099da3",
       "version_major": 2,
       "version_minor": 0
      },
      "text/plain": [
       "tokenizer_config.json:   0%|          | 0.00/48.0 [00:00<?, ?B/s]"
      ]
     },
     "metadata": {},
     "output_type": "display_data"
    },
    {
     "data": {
      "application/vnd.jupyter.widget-view+json": {
       "model_id": "b9cc247e53fd4567b08fe07f48ec5ddb",
       "version_major": 2,
       "version_minor": 0
      },
      "text/plain": [
       "vocab.txt:   0%|          | 0.00/232k [00:00<?, ?B/s]"
      ]
     },
     "metadata": {},
     "output_type": "display_data"
    },
    {
     "data": {
      "application/vnd.jupyter.widget-view+json": {
       "model_id": "9920d549de0c424b9221debbe5622f5a",
       "version_major": 2,
       "version_minor": 0
      },
      "text/plain": [
       "tokenizer.json:   0%|          | 0.00/466k [00:00<?, ?B/s]"
      ]
     },
     "metadata": {},
     "output_type": "display_data"
    },
    {
     "data": {
      "application/vnd.jupyter.widget-view+json": {
       "model_id": "2e704a4f78b44d71bf988ea62e1a6da1",
       "version_major": 2,
       "version_minor": 0
      },
      "text/plain": [
       "config.json:   0%|          | 0.00/570 [00:00<?, ?B/s]"
      ]
     },
     "metadata": {},
     "output_type": "display_data"
    }
   ],
   "source": [
    "from transformers import BertTokenizer\n",
    "tokenizer = BertTokenizer.from_pretrained('bert-base-uncased')"
   ]
  },
  {
   "cell_type": "code",
   "execution_count": 15,
   "id": "5d5cc5f3",
   "metadata": {},
   "outputs": [],
   "source": [
    "train,valid = train_test_split(df,test_size=0.2,shuffle=True,random_state=42)\n",
    "train.to_csv('train.csv',index=False)"
   ]
  },
  {
   "cell_type": "code",
   "execution_count": 96,
   "id": "544a5e1d",
   "metadata": {},
   "outputs": [],
   "source": [
    "from datasets import load_dataset,Dataset"
   ]
  },
  {
   "cell_type": "code",
   "execution_count": 97,
   "id": "4e216a0f",
   "metadata": {},
   "outputs": [],
   "source": [
    "def prepare_prompt(df):\n",
    "    return f\"\"\"\n",
    "    <movie_name>: {df['title']}, \n",
    "    <release_year>: {df['release_year']} ,\n",
    "    <genre>: {df['genre']}, \n",
    "    <plot_summary>:{df['plot_summary']} ,\n",
    "    <cast>: {df['cast']},\n",
    "    <rating_imdtrain.to_csv('train.csv',index=False)b>: {df['rating_imdb']},\n",
    "    <rating_rotten_tomatoes>: {df['rating_rotten_tomatoes']}\n",
    "\"\"\".strip()"
   ]
  },
  {
   "cell_type": "code",
   "execution_count": 98,
   "id": "e93ab09f",
   "metadata": {},
   "outputs": [],
   "source": [
    "def prepare_dataset(dataset):\n",
    "    full_prompt = prepare_prompt(dataset)\n",
    "    full_prompt_token = tokenizer(full_prompt,\n",
    "                                  padding=True,\n",
    "                                  truncation=True,\n",
    "                                  max_length = 256)\n",
    "    \n",
    "    full_prompt_token['labels'] = full_prompt_token['input_ids']\n",
    "    return full_prompt_token"
   ]
  },
  {
   "cell_type": "code",
   "execution_count": 99,
   "id": "182f1788",
   "metadata": {},
   "outputs": [
    {
     "data": {
      "application/vnd.jupyter.widget-view+json": {
       "model_id": "89759a8812bb44a18fbd88ed3ff7dcc2",
       "version_major": 2,
       "version_minor": 0
      },
      "text/plain": [
       "Generating train split: 0 examples [00:00, ? examples/s]"
      ]
     },
     "metadata": {},
     "output_type": "display_data"
    }
   ],
   "source": [
    "train = Dataset.from_csv('train.csv')"
   ]
  },
  {
   "cell_type": "code",
   "execution_count": 100,
   "id": "290e19a2",
   "metadata": {},
   "outputs": [
    {
     "data": {
      "application/vnd.jupyter.widget-view+json": {
       "model_id": "04e54181aa954c81ae0439f3e5d6616a",
       "version_major": 2,
       "version_minor": 0
      },
      "text/plain": [
       "Map:   0%|          | 0/12 [00:00<?, ? examples/s]"
      ]
     },
     "metadata": {},
     "output_type": "display_data"
    }
   ],
   "source": [
    "tokenized_train = train.map(\n",
    "    prepare_dataset,)"
   ]
  },
  {
   "cell_type": "code",
   "execution_count": 101,
   "id": "3f848e8a",
   "metadata": {},
   "outputs": [
    {
     "data": {
      "text/plain": [
       "Dataset({\n",
       "    features: ['title', 'length', 'release_year', 'genre', 'plot_summary', 'cast', 'rating_imdb', 'rating_rotten_tomatoes', 'input_ids', 'token_type_ids', 'attention_mask', 'labels'],\n",
       "    num_rows: 12\n",
       "})"
      ]
     },
     "execution_count": 101,
     "metadata": {},
     "output_type": "execute_result"
    }
   ],
   "source": [
    "tokenized_train"
   ]
  },
  {
   "cell_type": "code",
   "execution_count": 17,
   "id": "015d17f0",
   "metadata": {},
   "outputs": [],
   "source": [
    "valid.to_csv('valid.csv',index=False)\n",
    "# valid =  Dataset.from_csv('valid.csv')"
   ]
  },
  {
   "cell_type": "code",
   "execution_count": 104,
   "id": "07d164dd",
   "metadata": {},
   "outputs": [
    {
     "data": {
      "application/vnd.jupyter.widget-view+json": {
       "model_id": "6f6fe7565060411eb8428705ade69325",
       "version_major": 2,
       "version_minor": 0
      },
      "text/plain": [
       "Map:   0%|          | 0/4 [00:00<?, ? examples/s]"
      ]
     },
     "metadata": {},
     "output_type": "display_data"
    },
    {
     "data": {
      "text/plain": [
       "Dataset({\n",
       "    features: ['title', 'length', 'release_year', 'genre', 'plot_summary', 'cast', 'rating_imdb', 'rating_rotten_tomatoes', 'input_ids', 'token_type_ids', 'attention_mask', 'labels'],\n",
       "    num_rows: 4\n",
       "})"
      ]
     },
     "execution_count": 104,
     "metadata": {},
     "output_type": "execute_result"
    }
   ],
   "source": [
    "tokenized_valid = valid.map(prepare_dataset)\n",
    "tokenized_valid"
   ]
  },
  {
   "cell_type": "code",
   "execution_count": null,
   "id": "6cec46cd",
   "metadata": {},
   "outputs": [],
   "source": [
    "\n"
   ]
  }
 ],
 "metadata": {
  "kernelspec": {
   "display_name": "nolan",
   "language": "python",
   "name": "python3"
  },
  "language_info": {
   "codemirror_mode": {
    "name": "ipython",
    "version": 3
   },
   "file_extension": ".py",
   "mimetype": "text/x-python",
   "name": "python",
   "nbconvert_exporter": "python",
   "pygments_lexer": "ipython3",
   "version": "3.10.12"
  }
 },
 "nbformat": 4,
 "nbformat_minor": 5
}
